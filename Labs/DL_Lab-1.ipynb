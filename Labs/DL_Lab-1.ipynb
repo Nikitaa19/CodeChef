{
  "nbformat": 4,
  "nbformat_minor": 0,
  "metadata": {
    "colab": {
      "provenance": [],
      "gpuType": "T4"
    },
    "kernelspec": {
      "name": "python3",
      "display_name": "Python 3"
    },
    "language_info": {
      "name": "python"
    },
    "accelerator": "GPU"
  },
  "cells": [
    {
      "cell_type": "code",
      "execution_count": null,
      "metadata": {
        "id": "qGd3edOUA1B5"
      },
      "outputs": [],
      "source": [
        "import torch\n",
        "import torch.nn as nn\n",
        "import torch.optim as optim\n",
        "import torchvision.transforms as transforms\n",
        "from torch.utils.data import DataLoader\n",
        "from torchvision.datasets import MNIST\n",
        "import torch.nn.functional as F"
      ]
    },
    {
      "cell_type": "code",
      "source": [
        "class Net(nn.Module):\n",
        "    def __init__(self):\n",
        "        super(Net, self).__init__()\n",
        "        self.fc1 = nn.Linear(28*28, 512)\n",
        "        self.fc2 = nn.Linear(512, 256)\n",
        "        self.fc3 = nn.Linear(256, 10)\n",
        "\n",
        "    def forward(self, x):\n",
        "      x = torch.flatten(x, 1)\n",
        "      x = torch.sigmoid(self.fc1(x))\n",
        "      x = torch.sigmoid(self.fc2(x))\n",
        "      x = self.fc3(x)  # Applying softmax activation function to the output of fc3\n",
        "      return x"
      ],
      "metadata": {
        "id": "VHrdKmAkENWa"
      },
      "execution_count": null,
      "outputs": []
    },
    {
      "cell_type": "code",
      "source": [
        "transform = transforms.Compose([\n",
        "    transforms.ToTensor(),\n",
        "    transforms.Normalize((0.1307,), (0.3081,))\n",
        "])"
      ],
      "metadata": {
        "id": "JPkronkVEcbi"
      },
      "execution_count": null,
      "outputs": []
    },
    {
      "cell_type": "code",
      "source": [
        "train_dataset = MNIST(root='./data', train=True, transform=transform, download=True)\n",
        "test_dataset = MNIST(root='./data', train=False, transform=transform)\n",
        "\n",
        "train_loader = DataLoader(dataset=train_dataset, batch_size=64, shuffle=True)\n",
        "test_loader = DataLoader(dataset=test_dataset, batch_size=1000, shuffle=False)\n"
      ],
      "metadata": {
        "colab": {
          "base_uri": "https://localhost:8080/"
        },
        "id": "m6F63I3eEiKK",
        "outputId": "0e3eff63-3de6-4d31-f399-80cdf57eb9d9"
      },
      "execution_count": null,
      "outputs": [
        {
          "output_type": "stream",
          "name": "stdout",
          "text": [
            "Downloading http://yann.lecun.com/exdb/mnist/train-images-idx3-ubyte.gz\n",
            "Downloading http://yann.lecun.com/exdb/mnist/train-images-idx3-ubyte.gz to ./data/MNIST/raw/train-images-idx3-ubyte.gz\n"
          ]
        },
        {
          "output_type": "stream",
          "name": "stderr",
          "text": [
            "100%|██████████| 9912422/9912422 [00:00<00:00, 110999987.30it/s]\n"
          ]
        },
        {
          "output_type": "stream",
          "name": "stdout",
          "text": [
            "Extracting ./data/MNIST/raw/train-images-idx3-ubyte.gz to ./data/MNIST/raw\n",
            "\n",
            "Downloading http://yann.lecun.com/exdb/mnist/train-labels-idx1-ubyte.gz\n",
            "Downloading http://yann.lecun.com/exdb/mnist/train-labels-idx1-ubyte.gz to ./data/MNIST/raw/train-labels-idx1-ubyte.gz\n"
          ]
        },
        {
          "output_type": "stream",
          "name": "stderr",
          "text": [
            "100%|██████████| 28881/28881 [00:00<00:00, 36311658.82it/s]\n"
          ]
        },
        {
          "output_type": "stream",
          "name": "stdout",
          "text": [
            "Extracting ./data/MNIST/raw/train-labels-idx1-ubyte.gz to ./data/MNIST/raw\n",
            "\n",
            "Downloading http://yann.lecun.com/exdb/mnist/t10k-images-idx3-ubyte.gz\n",
            "Downloading http://yann.lecun.com/exdb/mnist/t10k-images-idx3-ubyte.gz to ./data/MNIST/raw/t10k-images-idx3-ubyte.gz\n"
          ]
        },
        {
          "output_type": "stream",
          "name": "stderr",
          "text": [
            "100%|██████████| 1648877/1648877 [00:00<00:00, 34164697.55it/s]\n"
          ]
        },
        {
          "output_type": "stream",
          "name": "stdout",
          "text": [
            "Extracting ./data/MNIST/raw/t10k-images-idx3-ubyte.gz to ./data/MNIST/raw\n",
            "\n",
            "Downloading http://yann.lecun.com/exdb/mnist/t10k-labels-idx1-ubyte.gz\n",
            "Downloading http://yann.lecun.com/exdb/mnist/t10k-labels-idx1-ubyte.gz to ./data/MNIST/raw/t10k-labels-idx1-ubyte.gz\n"
          ]
        },
        {
          "output_type": "stream",
          "name": "stderr",
          "text": [
            "100%|██████████| 4542/4542 [00:00<00:00, 17334421.08it/s]\n"
          ]
        },
        {
          "output_type": "stream",
          "name": "stdout",
          "text": [
            "Extracting ./data/MNIST/raw/t10k-labels-idx1-ubyte.gz to ./data/MNIST/raw\n",
            "\n"
          ]
        }
      ]
    },
    {
      "cell_type": "code",
      "source": [
        "model = Net()\n",
        "criterion = nn.CrossEntropyLoss()\n",
        "optimizer = optim.SGD(model.parameters(), lr=0.01, momentum=0.9)\n"
      ],
      "metadata": {
        "id": "uJPOQHpiEmSA"
      },
      "execution_count": null,
      "outputs": []
    },
    {
      "cell_type": "code",
      "source": [
        "for epoch in range(10):\n",
        "    for batch_idx, (data, target) in enumerate(train_loader):\n",
        "        optimizer.zero_grad()\n",
        "        output = model(data)\n",
        "        loss = criterion(output, target)\n",
        "        loss.backward()\n",
        "        optimizer.step()\n",
        "        if batch_idx % 100 == 0:\n",
        "            print(f'Epoch {epoch} [{batch_idx * len(data)}/{len(train_loader.dataset)} ({100. * batch_idx / len(train_loader):.0f}%)]\\tLoss: {loss.item():.6f}')\n"
      ],
      "metadata": {
        "colab": {
          "base_uri": "https://localhost:8080/"
        },
        "id": "pAMK8c2rEsCM",
        "outputId": "7e1025bf-e81f-4bb4-c6bd-4c93b881abbb"
      },
      "execution_count": null,
      "outputs": [
        {
          "output_type": "stream",
          "name": "stdout",
          "text": [
            "Epoch 0 [0/60000 (0%)]\tLoss: 2.365727\n",
            "Epoch 0 [6400/60000 (11%)]\tLoss: 2.245090\n",
            "Epoch 0 [12800/60000 (21%)]\tLoss: 1.802115\n",
            "Epoch 0 [19200/60000 (32%)]\tLoss: 1.175368\n",
            "Epoch 0 [25600/60000 (43%)]\tLoss: 0.822710\n",
            "Epoch 0 [32000/60000 (53%)]\tLoss: 0.792104\n",
            "Epoch 0 [38400/60000 (64%)]\tLoss: 0.592328\n",
            "Epoch 0 [44800/60000 (75%)]\tLoss: 0.473301\n",
            "Epoch 0 [51200/60000 (85%)]\tLoss: 0.278310\n",
            "Epoch 0 [57600/60000 (96%)]\tLoss: 0.439774\n",
            "Epoch 1 [0/60000 (0%)]\tLoss: 0.227191\n",
            "Epoch 1 [6400/60000 (11%)]\tLoss: 0.320907\n",
            "Epoch 1 [12800/60000 (21%)]\tLoss: 0.262920\n",
            "Epoch 1 [19200/60000 (32%)]\tLoss: 0.272947\n",
            "Epoch 1 [25600/60000 (43%)]\tLoss: 0.565414\n",
            "Epoch 1 [32000/60000 (53%)]\tLoss: 0.334113\n",
            "Epoch 1 [38400/60000 (64%)]\tLoss: 0.487040\n",
            "Epoch 1 [44800/60000 (75%)]\tLoss: 0.227874\n",
            "Epoch 1 [51200/60000 (85%)]\tLoss: 0.287342\n",
            "Epoch 1 [57600/60000 (96%)]\tLoss: 0.256496\n",
            "Epoch 2 [0/60000 (0%)]\tLoss: 0.339452\n",
            "Epoch 2 [6400/60000 (11%)]\tLoss: 0.287396\n",
            "Epoch 2 [12800/60000 (21%)]\tLoss: 0.222990\n",
            "Epoch 2 [19200/60000 (32%)]\tLoss: 0.328815\n",
            "Epoch 2 [25600/60000 (43%)]\tLoss: 0.166356\n",
            "Epoch 2 [32000/60000 (53%)]\tLoss: 0.240041\n",
            "Epoch 2 [38400/60000 (64%)]\tLoss: 0.253783\n",
            "Epoch 2 [44800/60000 (75%)]\tLoss: 0.290707\n",
            "Epoch 2 [51200/60000 (85%)]\tLoss: 0.204952\n",
            "Epoch 2 [57600/60000 (96%)]\tLoss: 0.240543\n",
            "Epoch 3 [0/60000 (0%)]\tLoss: 0.257998\n",
            "Epoch 3 [6400/60000 (11%)]\tLoss: 0.138605\n",
            "Epoch 3 [12800/60000 (21%)]\tLoss: 0.306983\n",
            "Epoch 3 [19200/60000 (32%)]\tLoss: 0.218507\n",
            "Epoch 3 [25600/60000 (43%)]\tLoss: 0.245414\n",
            "Epoch 3 [32000/60000 (53%)]\tLoss: 0.181827\n",
            "Epoch 3 [38400/60000 (64%)]\tLoss: 0.140755\n",
            "Epoch 3 [44800/60000 (75%)]\tLoss: 0.148929\n",
            "Epoch 3 [51200/60000 (85%)]\tLoss: 0.185838\n",
            "Epoch 3 [57600/60000 (96%)]\tLoss: 0.109281\n",
            "Epoch 4 [0/60000 (0%)]\tLoss: 0.201966\n",
            "Epoch 4 [6400/60000 (11%)]\tLoss: 0.094895\n",
            "Epoch 4 [12800/60000 (21%)]\tLoss: 0.216711\n",
            "Epoch 4 [19200/60000 (32%)]\tLoss: 0.302030\n",
            "Epoch 4 [25600/60000 (43%)]\tLoss: 0.236211\n",
            "Epoch 4 [32000/60000 (53%)]\tLoss: 0.449618\n",
            "Epoch 4 [38400/60000 (64%)]\tLoss: 0.088471\n",
            "Epoch 4 [44800/60000 (75%)]\tLoss: 0.217791\n",
            "Epoch 4 [51200/60000 (85%)]\tLoss: 0.090981\n",
            "Epoch 4 [57600/60000 (96%)]\tLoss: 0.248218\n",
            "Epoch 5 [0/60000 (0%)]\tLoss: 0.067311\n",
            "Epoch 5 [6400/60000 (11%)]\tLoss: 0.173986\n",
            "Epoch 5 [12800/60000 (21%)]\tLoss: 0.317004\n",
            "Epoch 5 [19200/60000 (32%)]\tLoss: 0.147483\n",
            "Epoch 5 [25600/60000 (43%)]\tLoss: 0.216234\n",
            "Epoch 5 [32000/60000 (53%)]\tLoss: 0.135121\n",
            "Epoch 5 [38400/60000 (64%)]\tLoss: 0.122199\n",
            "Epoch 5 [44800/60000 (75%)]\tLoss: 0.158870\n",
            "Epoch 5 [51200/60000 (85%)]\tLoss: 0.046857\n",
            "Epoch 5 [57600/60000 (96%)]\tLoss: 0.152627\n",
            "Epoch 6 [0/60000 (0%)]\tLoss: 0.226424\n",
            "Epoch 6 [6400/60000 (11%)]\tLoss: 0.120261\n",
            "Epoch 6 [12800/60000 (21%)]\tLoss: 0.200579\n",
            "Epoch 6 [19200/60000 (32%)]\tLoss: 0.088235\n",
            "Epoch 6 [25600/60000 (43%)]\tLoss: 0.108231\n",
            "Epoch 6 [32000/60000 (53%)]\tLoss: 0.155641\n",
            "Epoch 6 [38400/60000 (64%)]\tLoss: 0.097282\n",
            "Epoch 6 [44800/60000 (75%)]\tLoss: 0.134776\n",
            "Epoch 6 [51200/60000 (85%)]\tLoss: 0.154970\n",
            "Epoch 6 [57600/60000 (96%)]\tLoss: 0.343486\n",
            "Epoch 7 [0/60000 (0%)]\tLoss: 0.064371\n",
            "Epoch 7 [6400/60000 (11%)]\tLoss: 0.145043\n",
            "Epoch 7 [12800/60000 (21%)]\tLoss: 0.090550\n",
            "Epoch 7 [19200/60000 (32%)]\tLoss: 0.211827\n",
            "Epoch 7 [25600/60000 (43%)]\tLoss: 0.168415\n",
            "Epoch 7 [32000/60000 (53%)]\tLoss: 0.156093\n",
            "Epoch 7 [38400/60000 (64%)]\tLoss: 0.172518\n",
            "Epoch 7 [44800/60000 (75%)]\tLoss: 0.143735\n",
            "Epoch 7 [51200/60000 (85%)]\tLoss: 0.193232\n",
            "Epoch 7 [57600/60000 (96%)]\tLoss: 0.057131\n",
            "Epoch 8 [0/60000 (0%)]\tLoss: 0.291191\n",
            "Epoch 8 [6400/60000 (11%)]\tLoss: 0.201753\n",
            "Epoch 8 [12800/60000 (21%)]\tLoss: 0.084770\n",
            "Epoch 8 [19200/60000 (32%)]\tLoss: 0.057945\n",
            "Epoch 8 [25600/60000 (43%)]\tLoss: 0.092872\n",
            "Epoch 8 [32000/60000 (53%)]\tLoss: 0.180476\n",
            "Epoch 8 [38400/60000 (64%)]\tLoss: 0.191644\n",
            "Epoch 8 [44800/60000 (75%)]\tLoss: 0.151620\n",
            "Epoch 8 [51200/60000 (85%)]\tLoss: 0.084124\n",
            "Epoch 8 [57600/60000 (96%)]\tLoss: 0.131219\n",
            "Epoch 9 [0/60000 (0%)]\tLoss: 0.124282\n",
            "Epoch 9 [6400/60000 (11%)]\tLoss: 0.236065\n",
            "Epoch 9 [12800/60000 (21%)]\tLoss: 0.044762\n",
            "Epoch 9 [19200/60000 (32%)]\tLoss: 0.053073\n",
            "Epoch 9 [25600/60000 (43%)]\tLoss: 0.028805\n",
            "Epoch 9 [32000/60000 (53%)]\tLoss: 0.197258\n",
            "Epoch 9 [38400/60000 (64%)]\tLoss: 0.046889\n",
            "Epoch 9 [44800/60000 (75%)]\tLoss: 0.082499\n",
            "Epoch 9 [51200/60000 (85%)]\tLoss: 0.024605\n",
            "Epoch 9 [57600/60000 (96%)]\tLoss: 0.116381\n"
          ]
        }
      ]
    },
    {
      "cell_type": "code",
      "source": [
        "model.eval()\n",
        "test_loss = 0\n",
        "correct = 0\n",
        "with torch.no_grad():\n",
        "    for data, target in test_loader:\n",
        "        output = model(data)\n",
        "        test_loss += criterion(output, target).item()\n",
        "        pred = output.data.max(1, keepdim=True)[1]\n",
        "        correct += pred.eq(target.data.view_as(pred)).sum()\n",
        "\n",
        "test_loss /= len(test_loader.dataset)\n",
        "print(f'\\nTest set: Average loss: {test_loss:.4f}, Accuracy: {correct}/{len(test_loader.dataset)} ({100. * correct / len(test_loader.dataset):.0f}%)')\n"
      ],
      "metadata": {
        "colab": {
          "base_uri": "https://localhost:8080/"
        },
        "id": "k9Ow333XEwPv",
        "outputId": "98629a57-fcd0-48a8-fec0-d7e7aa01ff26"
      },
      "execution_count": null,
      "outputs": [
        {
          "output_type": "stream",
          "name": "stdout",
          "text": [
            "\n",
            "Test set: Average loss: 0.0001, Accuracy: 9837/10000 (98%)\n"
          ]
        }
      ]
    },
    {
      "cell_type": "code",
      "source": [],
      "metadata": {
        "id": "O3UuagmfF8cO"
      },
      "execution_count": null,
      "outputs": []
    }
  ]
}