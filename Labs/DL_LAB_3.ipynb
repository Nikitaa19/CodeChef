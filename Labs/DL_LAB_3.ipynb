{
  "nbformat": 4,
  "nbformat_minor": 0,
  "metadata": {
    "colab": {
      "provenance": []
    },
    "kernelspec": {
      "name": "python3",
      "display_name": "Python 3"
    },
    "language_info": {
      "name": "python"
    }
  },
  "cells": [
    {
      "cell_type": "code",
      "source": [
        "import tensorflow as tf\n",
        "from tensorflow.keras.datasets import mnist\n",
        "from tensorflow.keras.models import Sequential\n",
        "from tensorflow.keras.layers import Dense\n",
        "from tensorflow.keras.optimizers import Adam\n",
        "import time"
      ],
      "metadata": {
        "id": "RrqInPJVCYyd"
      },
      "execution_count": null,
      "outputs": []
    },
    {
      "cell_type": "code",
      "source": [
        "(x_train, y_train), (x_test, y_test) = mnist.load_data()\n",
        "x_train, x_test = x_train / 255.0, x_test / 255.0"
      ],
      "metadata": {
        "id": "EUFsSDIqCfFJ"
      },
      "execution_count": null,
      "outputs": []
    },
    {
      "cell_type": "code",
      "execution_count": null,
      "metadata": {
        "id": "dL1MddYR57SD",
        "colab": {
          "base_uri": "https://localhost:8080/"
        },
        "outputId": "8cf938db-0c10-4c09-9a50-781b5211da80"
      },
      "outputs": [
        {
          "output_type": "stream",
          "name": "stdout",
          "text": [
            "Number of Nodes: 4\n",
            "Training Accuracy: 0.8652\n",
            "Testing Accuracy: 0.8594\n",
            "Number of Parameters: 3190\n",
            "Training Time: 29.52 seconds\n",
            "------------------------------------------\n",
            "Number of Nodes: 32\n",
            "Training Accuracy: 0.9824\n",
            "Testing Accuracy: 0.9675\n",
            "Number of Parameters: 25450\n",
            "Training Time: 30.66 seconds\n",
            "------------------------------------------\n",
            "Number of Nodes: 64\n",
            "Training Accuracy: 0.9912\n",
            "Testing Accuracy: 0.9721\n",
            "Number of Parameters: 50890\n",
            "Training Time: 38.63 seconds\n",
            "------------------------------------------\n",
            "Number of Nodes: 128\n",
            "Training Accuracy: 0.9971\n",
            "Testing Accuracy: 0.9813\n",
            "Number of Parameters: 101770\n",
            "Training Time: 53.55 seconds\n",
            "------------------------------------------\n",
            "Number of Nodes: 512\n",
            "Training Accuracy: 0.9979\n",
            "Testing Accuracy: 0.9826\n",
            "Number of Parameters: 407050\n",
            "Training Time: 105.59 seconds\n",
            "------------------------------------------\n",
            "Number of Nodes: 2056\n",
            "Training Accuracy: 0.9969\n",
            "Testing Accuracy: 0.9831\n",
            "Number of Parameters: 1634530\n",
            "Training Time: 383.16 seconds\n",
            "------------------------------------------\n"
          ]
        }
      ],
      "source": [
        "def train_model(num_nodes):\n",
        "    start_time = time.time()\n",
        "\n",
        "    model = Sequential([\n",
        "        tf.keras.layers.Flatten(input_shape=(28, 28)),\n",
        "        Dense(num_nodes, activation='relu'),\n",
        "        Dense(10, activation='softmax')\n",
        "    ])\n",
        "\n",
        "    model.compile(optimizer=Adam(),\n",
        "                  loss='sparse_categorical_crossentropy',\n",
        "                  metrics=['accuracy'])\n",
        "\n",
        "    model.fit(x_train, y_train, epochs=10, verbose=0)\n",
        "    training_time = time.time() - start_time\n",
        "    train_accuracy = model.evaluate(x_train, y_train, verbose=0)[1]\n",
        "    test_accuracy = model.evaluate(x_test, y_test, verbose=0)[1]\n",
        "    num_params = model.count_params()\n",
        "    return train_accuracy, test_accuracy, num_params, training_time\n",
        "\n",
        "num_nodes_list = [4, 32, 64, 128, 512, 2056]\n",
        "\n",
        "for num_nodes in num_nodes_list:\n",
        "    train_acc, test_acc, num_params, train_time = train_model(num_nodes)\n",
        "    print(f\"Number of Nodes: {num_nodes}\")\n",
        "    print(f\"Training Accuracy: {train_acc:.4f}\")\n",
        "    print(f\"Testing Accuracy: {test_acc:.4f}\")\n",
        "    print(f\"Number of Parameters: {num_params}\")\n",
        "    print(f\"Training Time: {train_time:.2f} seconds\")\n",
        "    print(\"------------------------------------------\")"
      ]
    },
    {
      "cell_type": "code",
      "source": [
        "def train_model1(num_layers, epochs):\n",
        "    start_time = time.time()\n",
        "\n",
        "    model = Sequential()\n",
        "    model.add(tf.keras.layers.Flatten(input_shape=(28, 28)))\n",
        "\n",
        "    for i in range(num_layers):\n",
        "        model.add(Dense(64, activation='relu'))\n",
        "\n",
        "    model.add(Dense(10, activation='softmax'))\n",
        "\n",
        "    model.compile(optimizer=Adam(),\n",
        "                  loss='sparse_categorical_crossentropy',\n",
        "                  metrics=['accuracy'])\n",
        "\n",
        "    model.fit(x_train, y_train, epochs=epochs, verbose=0)\n",
        "    training_time = time.time() - start_time\n",
        "    train_accuracy = model.evaluate(x_train, y_train, verbose=0)[1]\n",
        "    test_accuracy = model.evaluate(x_test, y_test, verbose=0)[1]\n",
        "    num_params = model.count_params()\n",
        "    return train_accuracy, test_accuracy, num_params, training_time\n",
        "\n",
        "num_layers_list = [4, 6, 8, 16]\n",
        "epochs_list = [10, 30]\n",
        "\n",
        "for epochs in epochs_list:\n",
        "    print(f\"Training for {epochs} epochs:\")\n",
        "    print(\"------------------------------------------\")\n",
        "    for num_layers in num_layers_list:\n",
        "        train_acc, test_acc, num_params, train_time = train_model1(num_layers, epochs)\n",
        "        print(f\"Number of Layers: {num_layers}\")\n",
        "        print(f\"Training Accuracy: {train_acc:.4f}\")\n",
        "        print(f\"Testing Accuracy: {test_acc:.4f}\")\n",
        "        print(f\"Number of Parameters: {num_params}\")\n",
        "        print(f\"Training Time: {train_time:.2f} seconds\")\n",
        "        print(\"------------------------------------------\")\n",
        "    print(\"\\n\")"
      ],
      "metadata": {
        "colab": {
          "base_uri": "https://localhost:8080/"
        },
        "id": "S25v1EFEClgH",
        "outputId": "0779130e-8829-49d4-e19d-536037a8e9d0"
      },
      "execution_count": null,
      "outputs": [
        {
          "output_type": "stream",
          "name": "stdout",
          "text": [
            "Training for 10 epochs:\n",
            "------------------------------------------\n",
            "Number of Layers: 4\n",
            "Training Accuracy: 0.9888\n",
            "Testing Accuracy: 0.9716\n",
            "Number of Parameters: 63370\n",
            "Training Time: 83.46 seconds\n",
            "------------------------------------------\n",
            "Number of Layers: 6\n",
            "Training Accuracy: 0.9887\n",
            "Testing Accuracy: 0.9746\n",
            "Number of Parameters: 71690\n",
            "Training Time: 83.69 seconds\n",
            "------------------------------------------\n",
            "Number of Layers: 8\n",
            "Training Accuracy: 0.9890\n",
            "Testing Accuracy: 0.9745\n",
            "Number of Parameters: 80010\n",
            "Training Time: 54.96 seconds\n",
            "------------------------------------------\n",
            "Number of Layers: 16\n",
            "Training Accuracy: 0.9721\n",
            "Testing Accuracy: 0.9623\n",
            "Number of Parameters: 113290\n",
            "Training Time: 85.78 seconds\n",
            "------------------------------------------\n",
            "\n",
            "\n",
            "Training for 30 epochs:\n",
            "------------------------------------------\n",
            "Number of Layers: 4\n",
            "Training Accuracy: 0.9950\n",
            "Testing Accuracy: 0.9734\n",
            "Number of Parameters: 63370\n",
            "Training Time: 143.30 seconds\n",
            "------------------------------------------\n",
            "Number of Layers: 6\n",
            "Training Accuracy: 0.9977\n",
            "Testing Accuracy: 0.9757\n",
            "Number of Parameters: 71690\n",
            "Training Time: 151.07 seconds\n",
            "------------------------------------------\n",
            "Number of Layers: 8\n",
            "Training Accuracy: 0.9965\n",
            "Testing Accuracy: 0.9761\n",
            "Number of Parameters: 80010\n",
            "Training Time: 204.68 seconds\n",
            "------------------------------------------\n",
            "Number of Layers: 16\n",
            "Training Accuracy: 0.9867\n",
            "Testing Accuracy: 0.9732\n",
            "Number of Parameters: 113290\n",
            "Training Time: 265.15 seconds\n",
            "------------------------------------------\n",
            "\n",
            "\n"
          ]
        }
      ]
    },
    {
      "cell_type": "code",
      "source": [
        "def train_model2(num_layers, neurons_per_layer):\n",
        "    start_time = time.time()\n",
        "\n",
        "    model = Sequential()\n",
        "    model.add(tf.keras.layers.Flatten(input_shape=(28, 28)))\n",
        "\n",
        "    for i in range(num_layers):\n",
        "        model.add(Dense(neurons_per_layer, activation='relu'))\n",
        "\n",
        "    model.add(Dense(10, activation='softmax'))\n",
        "\n",
        "    model.compile(optimizer=Adam(),\n",
        "                  loss='sparse_categorical_crossentropy',\n",
        "                  metrics=['accuracy'])\n",
        "\n",
        "    model.fit(x_train, y_train, epochs=10, verbose=0)\n",
        "    training_time = time.time() - start_time\n",
        "    train_accuracy = model.evaluate(x_train, y_train, verbose=0)[1]\n",
        "    test_accuracy = model.evaluate(x_test, y_test, verbose=0)[1]\n",
        "    num_params = model.count_params()\n",
        "    return train_accuracy, test_accuracy, num_params, training_time\n",
        "\n",
        "configurations = [\n",
        "    {\"num_layers\": 1, \"neurons_per_layer\": 256},\n",
        "    {\"num_layers\": 2, \"neurons_per_layer\": 128},\n",
        "    {\"num_layers\": 3, \"neurons_per_layer\": 64},\n",
        "    {\"num_layers\": 4, \"neurons_per_layer\": 32},\n",
        "    {\"num_layers\": 5, \"neurons_per_layer\": 16}\n",
        "]\n",
        "\n",
        "for config in configurations:\n",
        "    train_acc, test_acc, num_params, train_time = train_model2(config[\"num_layers\"], config[\"neurons_per_layer\"])\n",
        "    print(f\"Model with {config['num_layers']} hidden layers, each containing {config['neurons_per_layer']} neurons:\")\n",
        "    print(f\"Training Accuracy: {train_acc:.4f}\")\n",
        "    print(f\"Testing Accuracy: {test_acc:.4f}\")\n",
        "    print(f\"Number of Parameters: {num_params}\")\n",
        "    print(f\"Training Time: {train_time:.2f} seconds\")\n",
        "    print(\"------------------------------------------\")"
      ],
      "metadata": {
        "colab": {
          "base_uri": "https://localhost:8080/"
        },
        "id": "EYqTzE7NL6kx",
        "outputId": "8bfc3838-9c0c-4763-ed76-0de1d4f6c8bf"
      },
      "execution_count": null,
      "outputs": [
        {
          "output_type": "stream",
          "name": "stdout",
          "text": [
            "Model with 1 hidden layers, each containing 256 neurons:\n",
            "Training Accuracy: 0.9957\n",
            "Testing Accuracy: 0.9807\n",
            "Number of Parameters: 203530\n",
            "Training Time: 71.07 seconds\n",
            "------------------------------------------\n",
            "Model with 2 hidden layers, each containing 128 neurons:\n",
            "Training Accuracy: 0.9957\n",
            "Testing Accuracy: 0.9773\n",
            "Number of Parameters: 118282\n",
            "Training Time: 57.38 seconds\n",
            "------------------------------------------\n",
            "Model with 3 hidden layers, each containing 64 neurons:\n",
            "Training Accuracy: 0.9905\n",
            "Testing Accuracy: 0.9728\n",
            "Number of Parameters: 59210\n",
            "Training Time: 83.35 seconds\n",
            "------------------------------------------\n",
            "Model with 4 hidden layers, each containing 32 neurons:\n",
            "Training Accuracy: 0.9836\n",
            "Testing Accuracy: 0.9710\n",
            "Number of Parameters: 28618\n",
            "Training Time: 38.15 seconds\n",
            "------------------------------------------\n",
            "Model with 5 hidden layers, each containing 16 neurons:\n",
            "Training Accuracy: 0.9643\n",
            "Testing Accuracy: 0.9505\n",
            "Number of Parameters: 13818\n",
            "Training Time: 36.11 seconds\n",
            "------------------------------------------\n"
          ]
        }
      ]
    }
  ]
}