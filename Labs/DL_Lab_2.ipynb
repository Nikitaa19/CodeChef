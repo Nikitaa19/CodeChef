{
  "cells": [
    {
      "cell_type": "code",
      "source": [
        "import numpy as np\n",
        "import matplotlib.pyplot as plt\n",
        "from sklearn.datasets import fetch_openml\n",
        "from sklearn.model_selection import train_test_split\n",
        "from sklearn.preprocessing import StandardScaler\n",
        "from sklearn.neural_network import MLPClassifier\n",
        "from sklearn.metrics import accuracy_score, precision_recall_fscore_support\n",
        "\n",
        "\n",
        "mnist = fetch_openml(\"mnist_784\")\n",
        "\n",
        "\n",
        "print(\"Input data shape:\", mnist.data.shape)\n",
        "print(\"Target data shape:\", mnist.target.shape)"
      ],
      "metadata": {
        "colab": {
          "base_uri": "https://localhost:8080/"
        },
        "id": "VVf7lCdQ8T6n",
        "outputId": "6bb382e7-a5c4-40f5-e123-3738c0e30cf6"
      },
      "execution_count": 1,
      "outputs": [
        {
          "output_type": "stream",
          "name": "stderr",
          "text": [
            "/usr/local/lib/python3.10/dist-packages/sklearn/datasets/_openml.py:968: FutureWarning: The default value of `parser` will change from `'liac-arff'` to `'auto'` in 1.4. You can set `parser='auto'` to silence this warning. Therefore, an `ImportError` will be raised from 1.4 if the dataset is dense and pandas is not installed. Note that the pandas parser may return different data types. See the Notes Section in fetch_openml's API doc for details.\n",
            "  warn(\n"
          ]
        },
        {
          "output_type": "stream",
          "name": "stdout",
          "text": [
            "Input data shape: (70000, 784)\n",
            "Target data shape: (70000,)\n"
          ]
        }
      ]
    },
    {
      "cell_type": "code",
      "source": [
        "X = mnist.data.astype(float)\n",
        "X_matrix = X.values\n",
        "\n",
        "\n",
        "X_images = np.reshape(X_matrix, (70000, 28, 28))\n",
        "\n",
        "\n",
        "\n",
        "plt.figure(figsize=(12, 5))\n",
        "for i in range(10):\n",
        "    plt.subplot(2, 5, i + 1)\n",
        "    plt.imshow(X_images[i], cmap='gray')\n",
        "    plt.title(f\"Label: {mnist.target[i]}\")\n",
        "    plt.axis('off')\n",
        "\n",
        "plt.show()"
      ],
      "metadata": {
        "colab": {
          "base_uri": "https://localhost:8080/",
          "height": 429
        },
        "id": "1S0nDY7p8T88",
        "outputId": "466b0383-bfb7-4c56-a766-6cf55730e1ba"
      },
      "execution_count": 2,
      "outputs": [
        {
          "output_type": "display_data",
          "data": {
            "text/plain": [
              "<Figure size 1200x500 with 10 Axes>"
            ],
            "image/png": "[encoded data removed]"
          },
          "metadata": {}
        }
      ]
    },
    {
      "cell_type": "code",
      "source": [
        "X_matrix = mnist.data.astype(float)\n",
        "y_vector = mnist.target.astype(int)\n",
        "\n",
        "\n",
        "scaler = StandardScaler()\n",
        "X_scaled = scaler.fit_transform(X_matrix)"
      ],
      "metadata": {
        "id": "5_yf1bcp8T_Z"
      },
      "execution_count": 3,
      "outputs": []
    },
    {
      "cell_type": "code",
      "source": [
        "from sklearn.model_selection import train_test_split\n",
        "\n",
        "\n",
        "X_train, X_test, y_train, y_test = train_test_split(X_scaled, y_vector, test_size=0.3, random_state=42)\n",
        "\n",
        "\n",
        "print(\"X_train shape:\", X_train.shape)\n",
        "print(\"y_train shape:\", y_train.shape)\n",
        "print(\"X_test shape:\", X_test.shape)\n",
        "print(\"y_test shape:\", y_test.shape)"
      ],
      "metadata": {
        "colab": {
          "base_uri": "https://localhost:8080/"
        },
        "id": "7sYcwDQf8UCu",
        "outputId": "27a3d830-52f5-497d-cd65-3e3c7904c6df"
      },
      "execution_count": 4,
      "outputs": [
        {
          "output_type": "stream",
          "name": "stdout",
          "text": [
            "X_train shape: (49000, 784)\n",
            "y_train shape: (49000,)\n",
            "X_test shape: (21000, 784)\n",
            "y_test shape: (21000,)\n"
          ]
        }
      ]
    },
    {
      "cell_type": "code",
      "source": [
        "from sklearn.neural_network import MLPClassifier\n",
        "from sklearn.metrics import accuracy_score\n",
        "\n",
        "ffn = MLPClassifier(hidden_layer_sizes=(32,), max_iter=5, random_state=42)\n",
        "\n",
        "\n",
        "ffn.fit(X_train, y_train)\n",
        "\n",
        "y_train_pred = ffn.predict(X_train)"
      ],
      "metadata": {
        "colab": {
          "base_uri": "https://localhost:8080/"
        },
        "id": "ZDzKXhaG8Zyi",
        "outputId": "5d022dd4-031e-4127-f5ad-8b801e8c4488"
      },
      "execution_count": 5,
      "outputs": [
        {
          "output_type": "stream",
          "name": "stderr",
          "text": [
            "/usr/local/lib/python3.10/dist-packages/sklearn/neural_network/_multilayer_perceptron.py:686: ConvergenceWarning: Stochastic Optimizer: Maximum iterations (5) reached and the optimization hasn't converged yet.\n",
            "  warnings.warn(\n"
          ]
        }
      ]
    },
    {
      "cell_type": "code",
      "source": [
        "y_test_pred = ffn.predict(X_test)\n",
        "test_accuracy = accuracy_score(y_test, y_test_pred)\n",
        "print(\"Accuracy on Testing Dataset:\", test_accuracy)\n",
        "\n",
        "precision, recall, f1_score, _ = precision_recall_fscore_support(y_test, y_test_pred, average='weighted')\n",
        "\n",
        "print(\"Precision on Testing Dataset:\", precision)\n",
        "print(\"Recall on Testing Dataset:\", recall)\n",
        "print(\"F1 Score on Testing Dataset:\", f1_score)"
      ],
      "metadata": {
        "colab": {
          "base_uri": "https://localhost:8080/"
        },
        "id": "dnyD48NL8dgl",
        "outputId": "f9cbf85f-202b-40e3-cf52-8bcb2508a523"
      },
      "execution_count": 6,
      "outputs": [
        {
          "output_type": "stream",
          "name": "stdout",
          "text": [
            "Accuracy on Testing Dataset: 0.9532857142857143\n",
            "Precision on Testing Dataset: 0.9532504640621651\n",
            "Recall on Testing Dataset: 0.9532857142857143\n",
            "F1 Score on Testing Dataset: 0.9532204606732287\n"
          ]
        }
      ]
    },
    {
      "cell_type": "code",
      "source": [
        "from sklearn.metrics import confusion_matrix\n",
        "import matplotlib.pyplot as plt\n",
        "import seaborn as sns\n",
        "\n",
        "conf_matrix = confusion_matrix(y_test, y_test_pred)\n",
        "\n",
        "conf_matrix"
      ],
      "metadata": {
        "colab": {
          "base_uri": "https://localhost:8080/"
        },
        "id": "jA0B7dTQ8dkB",
        "outputId": "ae38ca74-15da-4552-fc1d-f04ad61bfe3d"
      },
      "execution_count": 7,
      "outputs": [
        {
          "output_type": "execute_result",
          "data": {
            "text/plain": [
              "array([[2004,    2,    7,    1,    3,    7,   19,    5,   10,    0],\n",
              "       [   0, 2323,   13,   14,    2,    2,    1,    3,    4,    2],\n",
              "       [   6,   21, 2024,   11,   13,    5,    8,   18,   18,    9],\n",
              "       [   5,    7,   27, 2047,    1,   23,    4,   23,   22,   17],\n",
              "       [   3,    7,    8,    1, 1853,    0,    7,    8,    3,   46],\n",
              "       [   9,    3,    1,   47,    5, 1801,   16,    7,   23,    3],\n",
              "       [   8,    8,    4,    1,   17,   14, 2026,    3,    7,    0],\n",
              "       [   5,   10,   23,    5,   12,    4,    0, 2161,    4,   24],\n",
              "       [   6,   33,   10,   32,    8,   27,   10,   15, 1828,   23],\n",
              "       [  10,   10,    7,   17,   43,    3,    0,   31,   17, 1952]])"
            ]
          },
          "metadata": {},
          "execution_count": 7
        }
      ]
    }
  ],
  "metadata": {
    "colab": {
      "provenance": []
    },
    "kernelspec": {
      "display_name": "Python 3",
      "name": "python3"
    },
    "language_info": {
      "name": "python"
    }
  },
  "nbformat": 4,
  "nbformat_minor": 0
}