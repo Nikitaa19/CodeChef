{
  "nbformat": 4,
  "nbformat_minor": 0,
  "metadata": {
    "colab": {
      "provenance": [],
      "gpuType": "T4"
    },
    "kernelspec": {
      "name": "python3",
      "display_name": "Python 3"
    },
    "language_info": {
      "name": "python"
    },
    "accelerator": "GPU"
  },
  "cells": [
    {
      "cell_type": "code",
      "execution_count": 2,
      "metadata": {
        "id": "I7AuqwivUrR0"
      },
      "outputs": [],
      "source": [
        "import pandas as pd\n",
        "import numpy as np\n",
        "from sklearn.model_selection import train_test_split\n",
        "from tensorflow.keras.datasets import cifar10\n",
        "from tensorflow.keras import layers\n",
        "import tensorflow as tf\n",
        "from tensorflow.keras.applications import VGG16\n",
        "from tensorflow.keras.applications import InceptionV3"
      ]
    },
    {
      "cell_type": "code",
      "source": [
        "(x_train, y_train), (x_test, y_test) = cifar10.load_data()\n",
        "\n",
        "x_data = np.concatenate((x_train, x_test))\n",
        "y_data = np.concatenate((y_train, y_test))\n",
        "\n",
        "x_train, x_test, y_train, y_test = train_test_split(x_data, y_data, test_size=0.5, random_state=42)\n",
        "\n",
        "print('x_train shape:', x_train.shape)\n",
        "print('y_train shape:', y_train.shape)\n",
        "print('x_test shape:', x_test.shape)\n",
        "print('y_test shape:', y_test.shape)\n",
        "\n"
      ],
      "metadata": {
        "colab": {
          "base_uri": "https://localhost:8080/"
        },
        "id": "aOGrbY3DVHg4",
        "outputId": "4c7a3342-5109-48e0-c0c2-fef3379bcb22"
      },
      "execution_count": 3,
      "outputs": [
        {
          "output_type": "stream",
          "name": "stdout",
          "text": [
            "x_train shape: (30000, 32, 32, 3)\n",
            "y_train shape: (30000, 1)\n",
            "x_test shape: (30000, 32, 32, 3)\n",
            "y_test shape: (30000, 1)\n"
          ]
        }
      ]
    },
    {
      "cell_type": "code",
      "source": [
        "alex_net = tf.keras.models.Sequential([\n",
        "    layers.Conv2D(96, 11, strides=4, padding='same', input_shape=(32, 32, 3)),\n",
        "    layers.BatchNormalization(),\n",
        "    layers.Activation('relu'),\n",
        "    layers.MaxPooling2D(2),\n",
        "\n",
        "    layers.Conv2D(256, 5, padding='same'),\n",
        "    layers.BatchNormalization(),\n",
        "    layers.Activation('relu'),\n",
        "    layers.MaxPooling2D(2),\n",
        "\n",
        "    layers.Conv2D(384, 3, padding='same'),\n",
        "    layers.BatchNormalization(),\n",
        "    layers.Activation('relu'),\n",
        "\n",
        "    layers.Conv2D(384, 3, padding='same'),\n",
        "    layers.BatchNormalization(),\n",
        "    layers.Activation('relu'),\n",
        "\n",
        "    layers.Conv2D(256, 3, padding='same'),\n",
        "    layers.BatchNormalization(),\n",
        "    layers.Activation('relu'),\n",
        "    layers.MaxPooling2D(2),\n",
        "\n",
        "    layers.Flatten(),\n",
        "    layers.Dense(4096),\n",
        "    layers.BatchNormalization(),\n",
        "    layers.Activation('relu'),\n",
        "\n",
        "    layers.Dense(4096),\n",
        "    layers.BatchNormalization(),\n",
        "    layers.Activation('relu'),\n",
        "\n",
        "    layers.Dense(10, activation='softmax')\n",
        "])\n"
      ],
      "metadata": {
        "id": "tu0qeZpsVuM5"
      },
      "execution_count": 4,
      "outputs": []
    },
    {
      "cell_type": "code",
      "source": [
        "alex_net.compile(optimizer='adam',\n",
        "              loss=tf.keras.losses.SparseCategoricalCrossentropy(from_logits=True),\n",
        "              metrics=['accuracy'])\n",
        "\n",
        "history = alex_net.fit(x_train, y_train, epochs=2,\n",
        "                    validation_data=(x_test, y_test))\n"
      ],
      "metadata": {
        "colab": {
          "base_uri": "https://localhost:8080/"
        },
        "id": "LIaVT4jWYHzg",
        "outputId": "6e224ab2-9f0e-41f5-ca6b-5e94164bab0e"
      },
      "execution_count": 5,
      "outputs": [
        {
          "output_type": "stream",
          "name": "stdout",
          "text": [
            "Epoch 1/2\n"
          ]
        },
        {
          "output_type": "stream",
          "name": "stderr",
          "text": [
            "/usr/local/lib/python3.10/dist-packages/keras/src/backend.py:5727: UserWarning: \"`sparse_categorical_crossentropy` received `from_logits=True`, but the `output` argument was produced by a Softmax activation and thus does not represent logits. Was this intended?\n",
            "  output, from_logits = _get_logits(\n"
          ]
        },
        {
          "output_type": "stream",
          "name": "stdout",
          "text": [
            "938/938 [==============================] - 27s 19ms/step - loss: 2.0579 - accuracy: 0.3276 - val_loss: 7.0085 - val_accuracy: 0.1522\n",
            "Epoch 2/2\n",
            "938/938 [==============================] - 16s 18ms/step - loss: 1.7322 - accuracy: 0.4304 - val_loss: 2.2093 - val_accuracy: 0.3280\n"
          ]
        }
      ]
    },
    {
      "cell_type": "code",
      "source": [
        "import matplotlib.pyplot as plt\n",
        "plt.plot(history.history['accuracy'], label= 'accuracy')\n",
        "plt.plot(history.history['val_accuracy'], label = 'val_accuracy')\n",
        "plt.xlabel('Epoch')\n",
        "plt.ylabel('Accuracy')\n",
        "plt.ylim([0.2, 1])\n",
        "plt.legend(loc='lower right')\n",
        "test_loss, test_acc = alex_net.evaluate(x_test,y_test, verbose=2)\n"
      ],
      "metadata": {
        "colab": {
          "base_uri": "https://localhost:8080/",
          "height": 473
        },
        "id": "6UpbxClBZ5R0",
        "outputId": "2d75259e-4643-4dbe-c382-cc3ce0dcf837"
      },
      "execution_count": 6,
      "outputs": [
        {
          "output_type": "stream",
          "name": "stdout",
          "text": [
            "938/938 - 3s - loss: 2.2093 - accuracy: 0.3280 - 3s/epoch - 4ms/step\n"
          ]
        },
        {
          "output_type": "display_data",
          "data": {
            "text/plain": [
              "<Figure size 640x480 with 1 Axes>"
            ],
            "image/png": "[encoded data removed]"
          },
          "metadata": {}
        }
      ]
    },
    {
      "cell_type": "code",
      "source": [
        "from tensorflow.keras.applications import VGG16\n",
        "from tensorflow.keras import layers\n",
        "\n",
        "baseModel = VGG16(weights=\"imagenet\", include_top=False, input_tensor=layers.Input(shape=(32, 32, 3)))\n",
        "\n",
        "headModel = baseModel.output\n",
        "headModel = layers.Flatten(name=\"flatten\")(headModel)\n",
        "headModel = layers.Dense(64, activation=\"relu\")(headModel)\n",
        "headModel = layers.Dense(128, activation=\"relu\")(headModel)\n",
        "headModel = layers.Dense(128, activation=\"relu\")(headModel)\n",
        "headModel = layers.Dense(128, activation=\"relu\")(headModel)\n",
        "headModel = layers.Dense(256, activation=\"relu\")(headModel)\n",
        "headModel = layers.Dense(10, activation=\"softmax\")(headModel)\n",
        "\n",
        "vgg_16_2 = tf.keras.Model(inputs=baseModel.input, outputs=headModel)\n",
        "\n"
      ],
      "metadata": {
        "id": "_QL8BS7pawIn"
      },
      "execution_count": 7,
      "outputs": []
    },
    {
      "cell_type": "code",
      "source": [
        "vgg_16_2.compile(optimizer='adam',\n",
        "              loss=tf.keras.losses.SparseCategoricalCrossentropy(from_logits=True),\n",
        "              metrics=['accuracy'])\n",
        "\n",
        "history = vgg_16_2.fit(x_train, y_train, epochs=2,\n",
        "                    validation_data=(x_test, y_test))"
      ],
      "metadata": {
        "colab": {
          "base_uri": "https://localhost:8080/"
        },
        "id": "XPCns4F-cKJb",
        "outputId": "75f312dc-abf1-4ad9-83d7-05c49c6fb609"
      },
      "execution_count": null,
      "outputs": [
        {
          "output_type": "stream",
          "name": "stdout",
          "text": [
            "Epoch 1/2\n",
            "279/938 [=======>......................] - ETA: 19s - loss: 2.2278 - accuracy: 0.1457"
          ]
        }
      ]
    },
    {
      "cell_type": "code",
      "source": [
        "\n",
        "plt.plot(history.history['accuracy'], label= 'accuracy')\n",
        "plt.plot(history.history['val_accuracy'], label = 'val_accuracy')\n",
        "plt.xlabel('Epoch')\n",
        "plt.ylabel('Accuracy')\n",
        "plt.ylim([0.2, 1])\n",
        "plt.legend(loc='lower right')\n",
        "test_loss, test_acc = alex_net.evaluate(x_test,y_test, verbose=2)\n"
      ],
      "metadata": {
        "id": "gOeexUS_jy9R"
      },
      "execution_count": null,
      "outputs": []
    },
    {
      "cell_type": "code",
      "source": [
        "from tensorflow.keras.applications import ResNet50\n",
        "from tensorflow.keras import layers\n",
        "\n",
        "baseModel = ResNet50(weights=\"imagenet\", input_tensor=layers.Input(shape=(32, 32, 3)))\n",
        "\n",
        "headModel = baseModel.output\n",
        "headModel = layers.Flatten(name=\"flatten\")(headModel)\n",
        "headModel = layers.Dense(64, activation=\"relu\")(headModel)\n",
        "headModel = layers.Dense(64, activation=\"relu\")(headModel)\n",
        "headModel = layers.Dense(64, activation=\"relu\")(headModel)\n",
        "headModel = layers.Dense(128, activation=\"relu\")(headModel)\n",
        "headModel = layers.Dense(128, activation=\"relu\")(headModel)\n",
        "headModel = layers.Dense(10, activation=\"softmax\")(headModel)\n",
        "\n",
        "res_net = tf.keras.Model(inputs=baseModel.input, outputs=headModel)\n"
      ],
      "metadata": {
        "id": "6PU1gfD2e7L0"
      },
      "execution_count": null,
      "outputs": []
    },
    {
      "cell_type": "code",
      "source": [
        "res_net.compile(optimizer='adam',\n",
        "              loss=tf.keras.losses.SparseCategoricalCrossentropy(from_logits=True),\n",
        "              metrics=['accuracy'])\n",
        "\n",
        "history = res_net.fit(x_train, y_train, epochs=2,\n",
        "                    validation_data=(x_test, y_test))"
      ],
      "metadata": {
        "id": "BrdQ85W1kPly"
      },
      "execution_count": null,
      "outputs": []
    },
    {
      "cell_type": "code",
      "source": [
        "\n",
        "plt.plot(history.history['accuracy'], label= 'accuracy')\n",
        "plt.plot(history.history['val_accuracy'], label = 'val_accuracy')\n",
        "plt.xlabel('Epoch')\n",
        "plt.ylabel('Accuracy')\n",
        "plt.ylim([0.2, 1])\n",
        "plt.legend(loc='lower right')\n",
        "test_loss, test_acc = alex_net.evaluate(x_test,y_test, verbose=2)\n"
      ],
      "metadata": {
        "id": "6pPcJejLk2zg"
      },
      "execution_count": null,
      "outputs": []
    },
    {
      "cell_type": "code",
      "source": [
        "import cv2\n",
        "from tensorflow.keras.utils import to_categorical\n",
        "def GoogLeNet(input_shape=(32, 32, 3), num_classes=10):\n",
        "    model = tf.keras.applications.InceptionV3(\n",
        "        include_top=True,\n",
        "        weights=None,\n",
        "        input_tensor=None,\n",
        "        input_shape=input_shape,\n",
        "        pooling=None,\n",
        "        classes=num_classes,\n",
        "    )\n",
        "    return model\n",
        "\n",
        "x_train = np.array([cv2.resize(img, (75, 75)) for img in x_train])\n",
        "x_test = np.array([cv2.resize(img, (75, 75)) for img in x_test])\n",
        "\n",
        "x_train = x_train.reshape(-1, 75, 75, 3).astype('float32') / 255\n",
        "x_test = x_test.reshape(-1, 75, 75, 3).astype('float32') / 255\n",
        "\n",
        "\n",
        "\n",
        "y_train = to_categorical(y_train, num_classes=10)\n",
        "y_test = to_categorical(y_test, num_classes=10)\n",
        "\n",
        "model = GoogLeNet(input_shape=(75, 75, 3), num_classes=10)\n",
        "\n",
        "model.compile(optimizer='adam', loss='categorical_crossentropy', metrics=['accuracy'])\n",
        "\n",
        "model.fit(x_train, y_train, epochs=2, validation_data=(x_test, y_test))\n"
      ],
      "metadata": {
        "id": "8sh1KWhnlif9"
      },
      "execution_count": null,
      "outputs": []
    },
    {
      "cell_type": "code",
      "source": [],
      "metadata": {
        "id": "MhObrM4ml-8h"
      },
      "execution_count": null,
      "outputs": []
    }
  ]
}