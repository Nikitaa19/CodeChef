{
  "cells": [
    {
      "cell_type": "code",
      "source": [
        "import torch\n",
        "import torch.nn as nn\n",
        "import torch.optim as optim\n",
        "import torchvision.transforms as transforms\n",
        "from torch.utils.data import DataLoader\n",
        "from torchvision.datasets import MNIST\n",
        "import torch.nn.functional as F"
      ],
      "metadata": {
        "id": "ZiBBnKOwBxJ5"
      },
      "execution_count": 8,
      "outputs": []
    },
    {
      "cell_type": "code",
      "source": [
        "class Net(nn.Module):\n",
        "    def __init__(self):\n",
        "        super(Net, self).__init__()\n",
        "        self.fc1 = nn.Linear(28*28, 512)\n",
        "        self.fc2 = nn.Linear(512, 256)\n",
        "        self.fc3 = nn.Linear(256, 10)\n",
        "\n",
        "    def forward(self, x):\n",
        "      x = torch.flatten(x, 1)\n",
        "      x = torch.sigmoid(self.fc1(x))\n",
        "      x = torch.sigmoid(self.fc2(x))\n",
        "      x = self.fc3(x)\n",
        "      return x"
      ],
      "metadata": {
        "id": "1ly_ApC-BxMR"
      },
      "execution_count": 9,
      "outputs": []
    },
    {
      "cell_type": "code",
      "source": [
        "transform = transforms.Compose([\n",
        "    transforms.ToTensor(),\n",
        "    transforms.Normalize((0.1307,), (0.3081,))\n",
        "])"
      ],
      "metadata": {
        "id": "Lt4j6HODBxNh"
      },
      "execution_count": 10,
      "outputs": []
    },
    {
      "cell_type": "code",
      "source": [
        "train_dataset = MNIST(root='./data', train=True, transform=transform, download=True)\n",
        "test_dataset = MNIST(root='./data', train=False, transform=transform)\n",
        "\n",
        "train_loader = DataLoader(dataset=train_dataset, batch_size=64, shuffle=True)\n",
        "test_loader = DataLoader(dataset=test_dataset, batch_size=1000, shuffle=False)"
      ],
      "metadata": {
        "colab": {
          "base_uri": "https://localhost:8080/"
        },
        "id": "dlOZnNpiBxPE",
        "outputId": "80e2742e-2b4b-440a-ce4f-bf99f8cc0810"
      },
      "execution_count": 11,
      "outputs": [
        {
          "output_type": "stream",
          "name": "stdout",
          "text": [
            "Downloading http://yann.lecun.com/exdb/mnist/train-images-idx3-ubyte.gz\n",
            "Downloading http://yann.lecun.com/exdb/mnist/train-images-idx3-ubyte.gz to ./data/MNIST/raw/train-images-idx3-ubyte.gz\n"
          ]
        },
        {
          "output_type": "stream",
          "name": "stderr",
          "text": [
            "100%|██████████| 9912422/9912422 [00:00<00:00, 408964216.80it/s]"
          ]
        },
        {
          "output_type": "stream",
          "name": "stdout",
          "text": [
            "Extracting ./data/MNIST/raw/train-images-idx3-ubyte.gz to ./data/MNIST/raw\n"
          ]
        },
        {
          "output_type": "stream",
          "name": "stderr",
          "text": [
            "\n"
          ]
        },
        {
          "output_type": "stream",
          "name": "stdout",
          "text": [
            "\n",
            "Downloading http://yann.lecun.com/exdb/mnist/train-labels-idx1-ubyte.gz\n",
            "Downloading http://yann.lecun.com/exdb/mnist/train-labels-idx1-ubyte.gz to ./data/MNIST/raw/train-labels-idx1-ubyte.gz\n"
          ]
        },
        {
          "output_type": "stream",
          "name": "stderr",
          "text": [
            "100%|██████████| 28881/28881 [00:00<00:00, 12151238.22it/s]\n"
          ]
        },
        {
          "output_type": "stream",
          "name": "stdout",
          "text": [
            "Extracting ./data/MNIST/raw/train-labels-idx1-ubyte.gz to ./data/MNIST/raw\n",
            "\n",
            "Downloading http://yann.lecun.com/exdb/mnist/t10k-images-idx3-ubyte.gz\n",
            "Downloading http://yann.lecun.com/exdb/mnist/t10k-images-idx3-ubyte.gz to ./data/MNIST/raw/t10k-images-idx3-ubyte.gz\n"
          ]
        },
        {
          "output_type": "stream",
          "name": "stderr",
          "text": [
            "100%|██████████| 1648877/1648877 [00:00<00:00, 140807301.01it/s]"
          ]
        },
        {
          "output_type": "stream",
          "name": "stdout",
          "text": [
            "Extracting ./data/MNIST/raw/t10k-images-idx3-ubyte.gz to ./data/MNIST/raw\n",
            "\n",
            "Downloading http://yann.lecun.com/exdb/mnist/t10k-labels-idx1-ubyte.gz\n"
          ]
        },
        {
          "output_type": "stream",
          "name": "stderr",
          "text": [
            "\n"
          ]
        },
        {
          "output_type": "stream",
          "name": "stdout",
          "text": [
            "Downloading http://yann.lecun.com/exdb/mnist/t10k-labels-idx1-ubyte.gz to ./data/MNIST/raw/t10k-labels-idx1-ubyte.gz\n"
          ]
        },
        {
          "output_type": "stream",
          "name": "stderr",
          "text": [
            "100%|██████████| 4542/4542 [00:00<00:00, 11906580.48it/s]\n"
          ]
        },
        {
          "output_type": "stream",
          "name": "stdout",
          "text": [
            "Extracting ./data/MNIST/raw/t10k-labels-idx1-ubyte.gz to ./data/MNIST/raw\n",
            "\n"
          ]
        }
      ]
    },
    {
      "cell_type": "code",
      "source": [
        "model = Net()\n",
        "criterion = nn.CrossEntropyLoss()\n",
        "optimizer = optim.SGD(model.parameters(), lr=0.01, momentum=0.9)"
      ],
      "metadata": {
        "id": "R4THuUpFBxQq"
      },
      "execution_count": 12,
      "outputs": []
    },
    {
      "cell_type": "code",
      "source": [
        "for epoch in range(10):\n",
        "    for batch_idx, (data, target) in enumerate(train_loader):\n",
        "        optimizer.zero_grad()\n",
        "        output = model(data)\n",
        "        loss = criterion(output, target)\n",
        "        loss.backward()\n",
        "        optimizer.step()\n",
        "        if batch_idx % 100 == 0:\n",
        "            print(f'Epoch {epoch} [{batch_idx * len(data)}/{len(train_loader.dataset)} ({100. * batch_idx / len(train_loader):.0f}%)]\\tLoss: {loss.item():.6f}')"
      ],
      "metadata": {
        "colab": {
          "base_uri": "https://localhost:8080/"
        },
        "id": "YPabuqNiBxSN",
        "outputId": "77b16451-28a7-467d-be6f-18ccde765d63"
      },
      "execution_count": 13,
      "outputs": [
        {
          "output_type": "stream",
          "name": "stdout",
          "text": [
            "Epoch 0 [0/60000 (0%)]\tLoss: 2.395016\n",
            "Epoch 0 [6400/60000 (11%)]\tLoss: 2.361556\n",
            "Epoch 0 [12800/60000 (21%)]\tLoss: 1.700016\n",
            "Epoch 0 [19200/60000 (32%)]\tLoss: 1.175943\n",
            "Epoch 0 [25600/60000 (43%)]\tLoss: 0.757836\n",
            "Epoch 0 [32000/60000 (53%)]\tLoss: 0.582756\n",
            "Epoch 0 [38400/60000 (64%)]\tLoss: 0.601076\n",
            "Epoch 0 [44800/60000 (75%)]\tLoss: 0.425963\n",
            "Epoch 0 [51200/60000 (85%)]\tLoss: 0.545177\n",
            "Epoch 0 [57600/60000 (96%)]\tLoss: 0.326864\n",
            "Epoch 1 [0/60000 (0%)]\tLoss: 0.240026\n",
            "Epoch 1 [6400/60000 (11%)]\tLoss: 0.410697\n",
            "Epoch 1 [12800/60000 (21%)]\tLoss: 0.315686\n",
            "Epoch 1 [19200/60000 (32%)]\tLoss: 0.443828\n",
            "Epoch 1 [25600/60000 (43%)]\tLoss: 0.394981\n",
            "Epoch 1 [32000/60000 (53%)]\tLoss: 0.251231\n",
            "Epoch 1 [38400/60000 (64%)]\tLoss: 0.210354\n",
            "Epoch 1 [44800/60000 (75%)]\tLoss: 0.668271\n",
            "Epoch 1 [51200/60000 (85%)]\tLoss: 0.414646\n",
            "Epoch 1 [57600/60000 (96%)]\tLoss: 0.291394\n",
            "Epoch 2 [0/60000 (0%)]\tLoss: 0.363373\n",
            "Epoch 2 [6400/60000 (11%)]\tLoss: 0.406720\n",
            "Epoch 2 [12800/60000 (21%)]\tLoss: 0.240814\n",
            "Epoch 2 [19200/60000 (32%)]\tLoss: 0.334841\n",
            "Epoch 2 [25600/60000 (43%)]\tLoss: 0.555386\n",
            "Epoch 2 [32000/60000 (53%)]\tLoss: 0.266183\n",
            "Epoch 2 [38400/60000 (64%)]\tLoss: 0.252733\n",
            "Epoch 2 [44800/60000 (75%)]\tLoss: 0.241850\n",
            "Epoch 2 [51200/60000 (85%)]\tLoss: 0.310370\n",
            "Epoch 2 [57600/60000 (96%)]\tLoss: 0.398964\n",
            "Epoch 3 [0/60000 (0%)]\tLoss: 0.396962\n",
            "Epoch 3 [6400/60000 (11%)]\tLoss: 0.148834\n",
            "Epoch 3 [12800/60000 (21%)]\tLoss: 0.168576\n",
            "Epoch 3 [19200/60000 (32%)]\tLoss: 0.363697\n",
            "Epoch 3 [25600/60000 (43%)]\tLoss: 0.271216\n",
            "Epoch 3 [32000/60000 (53%)]\tLoss: 0.222721\n",
            "Epoch 3 [38400/60000 (64%)]\tLoss: 0.374283\n",
            "Epoch 3 [44800/60000 (75%)]\tLoss: 0.143918\n",
            "Epoch 3 [51200/60000 (85%)]\tLoss: 0.108580\n",
            "Epoch 3 [57600/60000 (96%)]\tLoss: 0.189986\n",
            "Epoch 4 [0/60000 (0%)]\tLoss: 0.128262\n",
            "Epoch 4 [6400/60000 (11%)]\tLoss: 0.199086\n",
            "Epoch 4 [12800/60000 (21%)]\tLoss: 0.123340\n",
            "Epoch 4 [19200/60000 (32%)]\tLoss: 0.225512\n",
            "Epoch 4 [25600/60000 (43%)]\tLoss: 0.258314\n",
            "Epoch 4 [32000/60000 (53%)]\tLoss: 0.107567\n",
            "Epoch 4 [38400/60000 (64%)]\tLoss: 0.372685\n",
            "Epoch 4 [44800/60000 (75%)]\tLoss: 0.257623\n",
            "Epoch 4 [51200/60000 (85%)]\tLoss: 0.062625\n",
            "Epoch 4 [57600/60000 (96%)]\tLoss: 0.270499\n",
            "Epoch 5 [0/60000 (0%)]\tLoss: 0.131033\n",
            "Epoch 5 [6400/60000 (11%)]\tLoss: 0.205004\n",
            "Epoch 5 [12800/60000 (21%)]\tLoss: 0.130646\n",
            "Epoch 5 [19200/60000 (32%)]\tLoss: 0.198690\n",
            "Epoch 5 [25600/60000 (43%)]\tLoss: 0.259721\n",
            "Epoch 5 [32000/60000 (53%)]\tLoss: 0.145769\n",
            "Epoch 5 [38400/60000 (64%)]\tLoss: 0.205383\n",
            "Epoch 5 [44800/60000 (75%)]\tLoss: 0.254424\n",
            "Epoch 5 [51200/60000 (85%)]\tLoss: 0.099226\n",
            "Epoch 5 [57600/60000 (96%)]\tLoss: 0.126942\n",
            "Epoch 6 [0/60000 (0%)]\tLoss: 0.242046\n",
            "Epoch 6 [6400/60000 (11%)]\tLoss: 0.096718\n",
            "Epoch 6 [12800/60000 (21%)]\tLoss: 0.161059\n",
            "Epoch 6 [19200/60000 (32%)]\tLoss: 0.149109\n",
            "Epoch 6 [25600/60000 (43%)]\tLoss: 0.167817\n",
            "Epoch 6 [32000/60000 (53%)]\tLoss: 0.302803\n",
            "Epoch 6 [38400/60000 (64%)]\tLoss: 0.071127\n",
            "Epoch 6 [44800/60000 (75%)]\tLoss: 0.050234\n",
            "Epoch 6 [51200/60000 (85%)]\tLoss: 0.129033\n",
            "Epoch 6 [57600/60000 (96%)]\tLoss: 0.190722\n",
            "Epoch 7 [0/60000 (0%)]\tLoss: 0.353714\n",
            "Epoch 7 [6400/60000 (11%)]\tLoss: 0.136636\n",
            "Epoch 7 [12800/60000 (21%)]\tLoss: 0.118865\n",
            "Epoch 7 [19200/60000 (32%)]\tLoss: 0.075094\n",
            "Epoch 7 [25600/60000 (43%)]\tLoss: 0.187610\n",
            "Epoch 7 [32000/60000 (53%)]\tLoss: 0.223508\n",
            "Epoch 7 [38400/60000 (64%)]\tLoss: 0.161299\n",
            "Epoch 7 [44800/60000 (75%)]\tLoss: 0.071466\n",
            "Epoch 7 [51200/60000 (85%)]\tLoss: 0.108852\n",
            "Epoch 7 [57600/60000 (96%)]\tLoss: 0.111382\n",
            "Epoch 8 [0/60000 (0%)]\tLoss: 0.027592\n",
            "Epoch 8 [6400/60000 (11%)]\tLoss: 0.088944\n",
            "Epoch 8 [12800/60000 (21%)]\tLoss: 0.042803\n",
            "Epoch 8 [19200/60000 (32%)]\tLoss: 0.397529\n",
            "Epoch 8 [25600/60000 (43%)]\tLoss: 0.077797\n",
            "Epoch 8 [32000/60000 (53%)]\tLoss: 0.089245\n",
            "Epoch 8 [38400/60000 (64%)]\tLoss: 0.172144\n",
            "Epoch 8 [44800/60000 (75%)]\tLoss: 0.063914\n",
            "Epoch 8 [51200/60000 (85%)]\tLoss: 0.094186\n",
            "Epoch 8 [57600/60000 (96%)]\tLoss: 0.104823\n",
            "Epoch 9 [0/60000 (0%)]\tLoss: 0.075069\n",
            "Epoch 9 [6400/60000 (11%)]\tLoss: 0.167613\n",
            "Epoch 9 [12800/60000 (21%)]\tLoss: 0.073723\n",
            "Epoch 9 [19200/60000 (32%)]\tLoss: 0.036770\n",
            "Epoch 9 [25600/60000 (43%)]\tLoss: 0.045073\n",
            "Epoch 9 [32000/60000 (53%)]\tLoss: 0.067118\n",
            "Epoch 9 [38400/60000 (64%)]\tLoss: 0.058622\n",
            "Epoch 9 [44800/60000 (75%)]\tLoss: 0.137719\n",
            "Epoch 9 [51200/60000 (85%)]\tLoss: 0.076950\n",
            "Epoch 9 [57600/60000 (96%)]\tLoss: 0.187463\n"
          ]
        }
      ]
    },
    {
      "cell_type": "code",
      "source": [
        "model.eval()\n",
        "test_loss = 0\n",
        "correct = 0\n",
        "with torch.no_grad():\n",
        "    for data, target in test_loader:\n",
        "        output = model(data)\n",
        "        test_loss += criterion(output, target).item()\n",
        "        pred = output.data.max(1, keepdim=True)[1]\n",
        "        correct += pred.eq(target.data.view_as(pred)).sum()\n",
        "\n",
        "test_loss /= len(test_loader.dataset)\n",
        "print(f'\\nTest set: Average loss: {test_loss:.4f}, Accuracy: {correct}/{len(test_loader.dataset)} ({100. * correct / len(test_loader.dataset):.0f}%)')"
      ],
      "metadata": {
        "colab": {
          "base_uri": "https://localhost:8080/"
        },
        "id": "WcusHWjWBxW4",
        "outputId": "289e3503-8c70-4ab7-cf49-746e6e42f58f"
      },
      "execution_count": 14,
      "outputs": [
        {
          "output_type": "stream",
          "name": "stdout",
          "text": [
            "\n",
            "Test set: Average loss: 0.0001, Accuracy: 9678/10000 (97%)\n"
          ]
        }
      ]
    }
  ],
  "metadata": {
    "colab": {
      "provenance": []
    },
    "kernelspec": {
      "display_name": "Python 3",
      "name": "python3"
    },
    "language_info": {
      "name": "python"
    }
  },
  "nbformat": 4,
  "nbformat_minor": 0
}